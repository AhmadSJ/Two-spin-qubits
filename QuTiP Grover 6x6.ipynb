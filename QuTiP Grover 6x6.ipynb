{
 "cells": [
  {
   "cell_type": "code",
   "execution_count": 81,
   "metadata": {},
   "outputs": [],
   "source": [
    "import numpy as np\n",
    "import qutip as qt\n",
    "import time\n",
    "import matplotlib.pyplot as plt\n",
    "from numpy import pi, sqrt\n",
    "import pickle"
   ]
  },
  {
   "cell_type": "markdown",
   "metadata": {},
   "source": [
    "### Introduction\n",
    "$\\newcommand{\\ket}[1]{|#1\\rangle}$\n",
    "\n",
    "The Hamiltonian of a two electron double quantum dot can be modelled by the generalized Hubbard model [3].\n",
    "\n",
    "\\begin{align}\n",
    "H = H_{\\mu} + H_{t} + H_{U} + H_{Z}\n",
    "\\end{align}\n",
    "\n",
    "Where the chemical potential part is $H_{\\mu} = \\displaystyle\\sum_{i\\sigma}(-\\mu_in_{i\\sigma})$ and the hopping terms are $H_t = \\displaystyle\\sum_{<ij>\\sigma}(-tc_{i\\sigma}^{\\dagger}c_{j\\sigma})$. The coulomb repulsion terms are $H_U = \\displaystyle\\sum_i U_in_{i\\uparrow}n_{i\\downarrow}$ and the zeeman term is $H_Z=\\displaystyle\\sum_{i}B_{i}(n_{i\\uparrow}-n_{i\\downarrow})$\n",
    "\n",
    "\n",
    "In this notebook we will be looking at the QuTiP implementation of Grover's Algorithm following ref[2].\n",
    "\n",
    "\n",
    "\n",
    "\n",
    "[1] T. Meunier, V. E. Calado, and L. M. K. Vandersypen. Efficient controlled-phase gate for single-spinqubits in quantum dots.Phys. Rev. B, 83:121403, Mar 2011.\n",
    "\n",
    "[2] T. F. Watson, S. G. J. Philips, E. Kawakami, D. R. Ward, P. Scarlino, M. Veldhorst, D. E. Savage, M. G. Lagally, Mark Friesen, S. N. Coppersmith, M. A. Eriksson, L. M. K. Vandersypen. A programmable two-qubit quantum processor in silicon. arXiv:1708.04214 [cond-mat.mes-hall]\n",
    "\n",
    "[3] S. Yang, X. Wang, and S. Das Sarma, Phys. Rev. B 83, 161301(R)(2011)."
   ]
  },
  {
   "cell_type": "markdown",
   "metadata": {},
   "source": [
    "### Hamiltonian parameters\n",
    "In the two electron basis $\\ket{\\uparrow,\\uparrow},\\ket{\\uparrow,\\downarrow},\\ket{\\downarrow,\\uparrow},\\ket{\\downarrow,\\downarrow},S(0,2),S(2,0)$ the Hamiltonian is given by: [2]\n",
    "\n",
    "\\begin{align}\n",
    "\\hat{H} = \\begin{pmatrix}-\\beta && 0 && 0 && 0 && 0 && 0 \\\\ 0 && -\\Delta\\nu && 0 && 0 && t && t\\\\ 0 && 0 && \\Delta\\nu && 0 && -t && -t\\\\\n",
    "0 && 0 &&0 && \\beta && 0 && 0\\\\ 0 && t && -t && 0 && U_1+\\epsilon && 0 \\\\ 0 && t && -t && 0 && 0 && U_2-\\epsilon \\end{pmatrix}\n",
    "\\end{align}\n",
    "\n",
    "Where $\\beta=\\dfrac{B_1+B_2}{2}$ is the average Zeeman energy of the dots, $\\Delta\\nu=\\dfrac{B_1-B_2}{2}$ is the difference in the Zeeman energy between the two dots, t is tunnel coupling and $U_i$ is the on-site charging energy of the $i^{th}$ quantum dot.\n",
    "\n",
    "#### Applying microwave pulse\n",
    "Single qubit gates can be performed by selectively exciting one qubit with an oscillating magnetic field.\n",
    "\n",
    "This can be modelled by the following Hamiltonian:\n",
    "\n",
    "$\\hat{H}_{mw} = \\sum\\limits_{k} B_{mw,k}\\cos{(\\omega_k t+\\phi_k)}[\\hat{\\sigma}_x\\otimes\\hat{I}+\\hat{I}\\otimes\\hat{\\sigma}_x]$\n",
    "\n",
    "#### Rotating Wave Approximation\n",
    "We perform a unitary transformation $U=e^{-i\\frac{\\omega_1t}{2} \\hat{\\sigma}_z\\otimes\\hat{I}}e^{-i\\frac{\\omega_2t}{2}\\hat{I}\\otimes\\hat{\\sigma}_z}$ to transform the Hamiltonians into a rotating frame $\\tilde{H}=UHU^{\\dagger}+i(\\partial_tU)U^{\\dagger}$. Where $\\omega_1,\\omega_2$ are the frequencies corresponding to the Zeeman energies of the dots.\n",
    "\n",
    "This gives the following Hamiltonians:\n",
    "\n",
    "\\begin{align}\n",
    "\\tilde{H}=\\begin{pmatrix}0&0&0&0&0&0\\\\0&0&0&0&te^{i\\Delta\\nu t}&te^{i\\Delta\\nu t}\\\\0&0&0&0&-te^{-i\\Delta\\nu t}&-te^{-i\\Delta\\nu t}\\\\\n",
    "0&0&0&0&0&0\\\\0&te^{-i\\Delta\\nu }&-te^{i\\Delta\\nu t}&0&U_1+\\epsilon&0\\\\0&te^{-i\\Delta\\nu t}&-te^{i\\Delta\\nu t}&0&0&U_2-\\epsilon\\end{pmatrix}\n",
    "\\end{align}\n",
    "\n",
    "and\n",
    "\n",
    "\\begin{align}\n",
    "\\tilde{H}_{mw}=\\sum\\limits_{k}\\begin{pmatrix}0&\\Omega_ke^{i\\Delta\\omega_1t}&\\Omega_ke^{i\\Delta\\omega_2t}&0&0&0\\\\\\Omega^*_ke^{-i\\Delta\\omega_1t}&0&0&\\Omega_ke^{i\\Delta\\omega_2t}&0&0\\\\\\Omega^*_ke^{-i\\Delta\\omega_2t}&0&0&\\Omega_ke^{i\\Delta\\omega_1t}&0&0\\\\\n",
    "0&\\Omega^*_ke^{-i\\Delta\\omega_2t}&\\Omega^*_ke^{-i\\Delta\\omega_1t}&0&0&0\\\\0&0&0&0&0&0\\\\0&0&0&0&0&0\\end{pmatrix}\n",
    "\\end{align}\n",
    "\n",
    "with $\\Delta\\omega_{k}=\\omega_k-\\omega_{qubit}$ and $\\Omega_k = B_{mw,k}e^{i\\phi_k}$"
   ]
  },
  {
   "cell_type": "markdown",
   "metadata": {},
   "source": [
    "### QuTiP Mesolve() solver\n",
    "To solve the Schrodinger equation for this system: $i\\partial_t\\psi=(\\tilde{H}+\\tilde{H}_{mw})\\psi$ we will be using the mesolve function of QuTiP.\n",
    "In particular the string based method, where the time dependent Hamiltonian coefficients $f_i(t)$ are expressed as strings : $H_{total} = H_{0} - \\sum\\limits_i f_i(t)H_i$ where $H_0$ is the time independent part of the Hamiltonian, $f_i(t)$ are the time dependent coefficients."
   ]
  },
  {
   "cell_type": "code",
   "execution_count": 82,
   "metadata": {},
   "outputs": [],
   "source": [
    "# Plot function that takes the output of mesolve() and plots the probability of each state versus time.\n",
    "def plot_states(tlist,output):\n",
    "    \"\"\"Plots the probabilities of the eigenbasis vectors as a function of time.\n",
    "    \n",
    "    Args:\n",
    "        tlist (array or list): Contains the time steps\n",
    "        output (qutip.solver.Result): Output of the time simulation using qutips mesolve() solver\n",
    "        \n",
    "    Returns:\n",
    "        None, but plots the probabilities of the time simulation for quick visualization.\n",
    "    \n",
    "    \"\"\"\n",
    "    stat=['dd','du','ud','uu', 'S(2,0)','S(0,2)']\n",
    "    stat = [r'$|\\downarrow\\downarrow\\rangle$',r'$|\\downarrow\\uparrow\\rangle$',r'$|\\uparrow\\downarrow\\rangle$',\n",
    "            r'$|\\uparrow\\uparrow\\rangle$', 'S(2,0)','S(0,2)']\n",
    "    p=[]\n",
    "    p_cython=[]\n",
    "    for i in np.arange(len(tlist)):\n",
    "        p.append(abs(output.states[i].full().ravel())**2)\n",
    "        #p_cython.append(abs(output_cython.states[i].full().ravel())**2)\n",
    "\n",
    "    p = np.array(p)\n",
    "    p_cython = np.array(p_cython)\n",
    "    for i in np.arange(6):\n",
    "        plt.plot(tlist/1e-9,p[:,i],label=stat[i])\n",
    "        #plt.figure(2)\n",
    "        #plt.plot(tlist/1e-6,p_cython[:,i],label=i)\n",
    "    plt.xlabel('time (ns)')\n",
    "    plt.ylabel('Probability')\n",
    "    plt.legend(loc='best',bbox_to_anchor=(1,1), fontsize = 'x-large')\n",
    "    plt.show()\n"
   ]
  },
  {
   "cell_type": "code",
   "execution_count": 83,
   "metadata": {},
   "outputs": [],
   "source": [
    "def set_Hamiltonian(B1,B2,t0,U1,U2,detuning):\n",
    "    '''Initializes the two electron spin hamiltonian. The energies are in units of Hz.\n",
    "    \n",
    "    Args:\n",
    "        B1 (double): Zeeman energy of dot 1\n",
    "        B2 (double): Zeeman energy of dot 2\n",
    "        t (double): Tunnel coupling\n",
    "        U1 (double): Coulomb energy dot 1\n",
    "        U2 (double): Coulomb energy dot 2\n",
    "        det (double): detuning energy\n",
    "           \n",
    "       Returns:\n",
    "           6x6 numpy array representing the Hamiltonian in units of Angular frequency.\n",
    "    '''\n",
    "    t=t0\n",
    "    h = np.zeros((6,6),dtype=complex)\n",
    "    h[0,0]=-(B1+B2)/2\n",
    "    h[1,1]=-(B1-B2)/2;h[1,4:6]=t\n",
    "    h[2,2]=(B1-B2)/2;h[2,4:6]=-t\n",
    "    h[3,3]=(B1+B2)/2\n",
    "    h[4,1]=t;h[4,2]=-t;h[4,4] = U1+detuning\n",
    "    h[5,1]=t;h[5,2]=-t;h[5,5]=U2-detuning\n",
    "    return 2*np.pi*h"
   ]
  },
  {
   "cell_type": "markdown",
   "metadata": {},
   "source": [
    "First initialize the time independent Hamiltonian terms which in this case are the $U_1 + \\epsilon$ and $U_2 - \\epsilon$ terms."
   ]
  },
  {
   "cell_type": "code",
   "execution_count": 84,
   "metadata": {},
   "outputs": [],
   "source": [
    "H0=set_Hamiltonian(B1=0,B2=0,t0=0,U1=1e12,U2=1e12,detuning=0)"
   ]
  },
  {
   "cell_type": "markdown",
   "metadata": {},
   "source": [
    "Initialize the tunnel and microwave hamiltonians to pair them with the coefficients."
   ]
  },
  {
   "cell_type": "code",
   "execution_count": 85,
   "metadata": {},
   "outputs": [],
   "source": [
    "#Ht1 is the hamiltonian corresponding to the tunnel coupling coefficient ft1\n",
    "Ht1=np.zeros((6,6),dtype=complex);Ht1[4,1]=1;Ht1[5,1]=1;Ht1[2,4]=-1;Ht1[2,5]=-1;\n",
    "Ht2=np.zeros((6,6),dtype=complex);Ht2[4,2]=-1;Ht2[5,2]=-1;Ht2[1,5]=1;Ht2[1,4]=1;\n",
    "\n",
    "H0=set_Hamiltonian(0,0,0,1e12,1e12,0)\n",
    "xi = qt.tensor(qt.sigmax(),qt.qeye(2)).full()\n",
    "ix = qt.tensor(qt.qeye(2),qt.sigmax()).full()\n",
    "\n",
    "Hmw=ix+xi;hulp=np.zeros((6,6),dtype=complex);hulp[:4,:4]=np.copy(Hmw);Hmw=np.copy(hulp)\n",
    "\n",
    "Hmw1 = np.zeros((6,6),dtype=complex);Hmw1[0,1]=1;Hmw1[2,3]=1;\n",
    "Hmw2 = np.zeros((6,6),dtype=complex);Hmw2[0,2]=1;Hmw2[1,3]=1;\n",
    "Hmw3 = np.zeros((6,6),dtype=complex);Hmw3[1,0]=1;Hmw3[3,2]=1;\n",
    "Hmw4 = np.zeros((6,6),dtype=complex);Hmw4[2,0]=1;Hmw4[3,1]=1;\n",
    "\n",
    "# Need to make all the Hamiltonians Quantum Objects for the mesolve solver.\n",
    "H0=qt.Qobj(H0);Ht1=qt.Qobj(Ht1);Ht2=qt.Qobj(Ht2);Hmw1=qt.Qobj(Hmw1);Hmw2=qt.Qobj(Hmw2);Hmw3=qt.Qobj(Hmw3);Hmw4=qt.Qobj(Hmw4)"
   ]
  },
  {
   "cell_type": "markdown",
   "metadata": {},
   "source": [
    "### Rabi oscillations\n",
    "$\\hbar = 1$ so the units of energy is Hz. In the hamiltonian the rabi frequency is given by: $\\Omega = 2\\pi B_{mw}$.\n",
    "\n",
    "To obtain Rabi oscillations we need to drive a qubit with with an oscillating magnetic field with a frequency $\\omega$ corresponding to the Zeeman frequency $\\omega_0$, $\\Omega = \\sqrt{(\\omega - \\omega_0)^2 + \\omega_{mw}^2}\\approx\\omega_{mw}$ Where $\\omega_{mw}$ corresponds to the energy of the AC magnetic field.\n",
    "\n",
    "\n"
   ]
  },
  {
   "cell_type": "markdown",
   "metadata": {},
   "source": [
    "In the following example we drive qubit 2 which has a Zeeman energy of $B_2=B_{Q2}=\\omega_{Q2}=10^9$Hz (while qubit 1 has Zeeman energy $B_{Q1}=\\omega_{Q1}=2\\cdot10^9$Hz)and apply a magnetic field with amplitude (rabi frequency) of $B_{mwQ2}=|\\Omega_{Q2}|=5\\cdot 10^6 $Hz and a frequency $\\omega_k=\\omega_{Q2}=10^9$Hz. Tunneling coupling is considered 0, so we don't consider the tunnel Hamiltonian. The hamiltonians we \n",
    "use are the time independent terms $H_0$ and the driving field applied to qubit 2: $B_{mwQ2}\\cos(\\omega_{Q2} t+\\phi)(\\hat{\\sigma}_x\\otimes\\hat{I}+\\hat{I}\\otimes\\hat{\\sigma})$\n",
    "or in the RWA:\n",
    "\n",
    "\\begin{align}\n",
    "\\tilde{H}_{mw}&=\\sum\\limits_{k}\\begin{pmatrix}0&\\Omega_ke^{i(\\omega_k-\\omega_{Q2})t}&\\Omega_ke^{i(\\omega_k-\\omega_{Q1})t}&0&0&0\\\\\\Omega^*_ke^{-i(\\omega_k-\\omega_{Q2})t}&0&0&\\Omega_ke^{i(\\omega_k-\\omega_{Q1})t}&0&0\\\\\\Omega^*_ke^{-i(\\omega_k-\\omega_{Q1})t}&0&0&\\Omega_ke^{i(\\omega_k-\\omega_{Q2})t}&0&0\\\\\n",
    "0&\\Omega^*_ke^{-i(\\omega_k-\\omega_{Q1})t}&\\Omega^*_ke^{-i(\\omega_k-\\omega_{Q2})t}&0&0&0\\\\0&0&0&0&0&0\\\\0&0&0&0&0&0\\end{pmatrix}\\\\\n",
    "&=\\begin{pmatrix}0&\\Omega_{Q2}e^{i(\\omega_{Q2}-\\omega_{Q2})t}&\\Omega_{Q2}e^{i(\\omega_{Q2}-\\omega_{Q1})t}&0&0&0\\\\\\Omega^*_{Q2}e^{-i(\\omega_{Q2}-\\omega_{Q2})t}&0&0&\\Omega_{Q2}e^{i(\\omega_{Q2}-\\omega_{Q1})t}&0&0\\\\\\Omega^*_{Q2}e^{-i(\\omega_{Q2}-\\omega_{Q1})t}&0&0&\\Omega_{Q2}e^{i(\\omega_{Q2}-\\omega_{Q2})t}&0&0\\\\\n",
    "0&\\Omega^*_{Q2}e^{-i(\\omega_{Q2}-\\omega_{Q1})t}&\\Omega^*_{Q2}e^{-i(\\omega_{Q2}-\\omega_{Q2})t}&0&0&0\\\\0&0&0&0&0&0\\\\0&0&0&0&0&0\\end{pmatrix}\\\\\n",
    "\\end{align}\n"
   ]
  },
  {
   "cell_type": "code",
   "execution_count": 86,
   "metadata": {},
   "outputs": [],
   "source": [
    "tlist = np.linspace(0,1000e-9,1000)\n",
    "args = {'tunnel_coupling':4.3e9,'B_Q1':2e9, 'B_Q2' : 1e9, 'BmwQ1': 5e6, \n",
    "       'BmwQ2' : 5e6, 'viQ1': 0, 'viQ2' : 0, 'w_driveq1': 2e9, 'w_driveq2': 2e9, 'tstart' : tlist[0], \n",
    "        'tstop' : tlist[-1]}\n",
    "\n",
    "time_interval = '*(0e-9<=t<=1000e-9)'\n",
    "\n",
    "Hmw_Q2_coeff = '-0.5*2*np.pi*BmwQ2*np.exp(1j*viQ2)*np.exp(1j*2*np.pi*(w_driveq1-B_Q2)*t)'+time_interval\n",
    "Hmw_Q2_conj_coeff = '-0.5*2*np.pi*BmwQ2*np.exp(-1j*viQ2)*np.exp(-1j*2*np.pi*(w_driveq1-B_Q2)*t)'+time_interval\n",
    "\n",
    "Hmw_Q1_coeff = '-0.5*2*np.pi*BmwQ2*np.exp(1j*viQ2)*np.exp(1j*2*np.pi*(w_driveq1-B_Q1)*t)'+time_interval\n",
    "Hmw_Q1_conj_coeff = '-0.5*2*np.pi*BmwQ2*np.exp(-1j*viQ2)*np.exp(-1j*2*np.pi*(w_driveq1-B_Q1)*t)'+time_interval\n",
    "\n",
    "Ht1_c = '(40e-9<=t<=40.01e-9)*-2*np.pi*tunnel_coupling*np.exp(-1j*2*np.pi*(B_Q1-B_Q2)/2*t)'\n",
    "Ht2_c = '(40e-9<=t<=40.01e-9)*-2*np.pi*tunnel_coupling*np.exp(1j*2*np.pi*(B_Q1-B_Q2)/2*t)'\n",
    "c_ops = []"
   ]
  },
  {
   "cell_type": "code",
   "execution_count": 87,
   "metadata": {},
   "outputs": [],
   "source": [
    "H = [H0,[Hmw1,Hmw_Q2_coeff],[Hmw3,Hmw_Q2_conj_coeff],[Hmw2,Hmw_Q1_coeff],[Hmw4,Hmw_Q1_conj_coeff]]\n",
    "psi0=qt.basis(6,0)\n"
   ]
  },
  {
   "cell_type": "code",
   "execution_count": 88,
   "metadata": {
    "scrolled": true
   },
   "outputs": [
    {
     "name": "stderr",
     "output_type": "stream",
     "text": [
      "E:\\Anaconda3\\lib\\site-packages\\Cython\\Compiler\\Main.py:367: FutureWarning: Cython directive 'language_level' not set, using 2 for now (Py2). This will change in a later release! File: C:\\Users\\Ahmad\\Documents\\GitHub\\spin-projects\\users\\AhmadSJ\\rhs993214.pyx\n",
      "  tree = Parsing.p_module(s, pxd, full_module_name)\n"
     ]
    },
    {
     "name": "stdout",
     "output_type": "stream",
     "text": [
      "10.0%. Run time:   0.69s. Est. time left: 00:00:00:06\n",
      "20.0%. Run time:   1.29s. Est. time left: 00:00:00:05\n",
      "30.0%. Run time:   2.00s. Est. time left: 00:00:00:04\n",
      "40.0%. Run time:   2.86s. Est. time left: 00:00:00:04\n",
      "50.0%. Run time:   3.65s. Est. time left: 00:00:00:03\n",
      "60.0%. Run time:   4.43s. Est. time left: 00:00:00:02\n",
      "70.0%. Run time:   5.22s. Est. time left: 00:00:00:02\n",
      "80.0%. Run time:   6.01s. Est. time left: 00:00:00:01\n",
      "90.0%. Run time:   6.61s. Est. time left: 00:00:00:00\n",
      "Total run time:   7.37s\n"
     ]
    },
    {
     "data": {
      "image/png": "[encoded data removed]",
      "text/plain": [
       "<Figure size 432x288 with 1 Axes>"
      ]
     },
     "metadata": {
      "needs_background": "light"
     },
     "output_type": "display_data"
    }
   ],
   "source": [
    "output = qt.mesolve(H,psi0,tlist,[],[],args=args,options=qt.Options(nsteps=2000000, method='bdf'),progress_bar=True)\n",
    "plot_states(tlist,output)"
   ]
  },
  {
   "cell_type": "code",
   "execution_count": 89,
   "metadata": {},
   "outputs": [],
   "source": [
    "H0=set_Hamiltonian(0,0,0,850e9,840e9,0)#B1,B2,t,U1,U2,e\n",
    "#detuning pulse\n",
    "Hdet = set_Hamiltonian(0,0,0,1,-1,0)/(2*np.pi)\n",
    "H0=qt.Qobj(H0)\n",
    "Hdet = qt.Qobj(Hdet)"
   ]
  },
  {
   "cell_type": "code",
   "execution_count": 90,
   "metadata": {},
   "outputs": [],
   "source": [
    "w_drive1 = '19.7e9'\n",
    "time_interval1 = '*(100e-9<=t<=225e-9)'\n",
    "#This microwave signal rotates qubit 1 with pi radians BmwQ1*cos(w_driveQ1*t+viQ1)\n",
    "Hmw_Q2_coeff_pulse_Q1_time1 = '-0.5*2*np.pi*BmwQ1*np.exp(1j*viQ1)*np.exp(1j*2*np.pi*(w_driveQ1-B2)*t)'+time_interval1\n",
    "Hmw_Q2_conj_coeff_pulse_Q1_time1 = '-0.5*2*np.pi*BmwQ1*np.exp(-1j*viQ1)*np.exp(-1j*2*np.pi*(w_driveQ1-B2)*t)'+time_interval1\n",
    "Hmw_Q1_coeff_pulse_Q1_time1 = '-0.5*2*np.pi*BmwQ1*np.exp(1j*viQ1)*np.exp(1j*2*np.pi*(w_driveQ1-B1)*t)'+time_interval1\n",
    "Hmw_Q1_conj_coeff_pulse_Q1_time1 = '-0.5*2*np.pi*BmwQ1*np.exp(-1j*viQ1)*np.exp(-1j*2*np.pi*(w_driveQ1-B1)*t)'+time_interval1\n",
    "\n",
    "#This mw signal rotates qubit 2 with pi radians BmwQ2*cos(w_driveQ2*t+viQ2)\n",
    "Hmw_Q2_coeff_pulse_Q2_time1 = '-0.5*2*np.pi*BmwQ2*np.exp(1j*viQ2)*np.exp(1j*2*np.pi*(w_driveQ2-B2)*t)'+time_interval1\n",
    "Hmw_Q2_conj_coeff_pulse_Q2_time1 = '-0.5*2*np.pi*BmwQ2*np.exp(-1j*viQ2)*np.exp(-1j*2*np.pi*(w_driveQ2-B2)*t)'+time_interval1\n",
    "Hmw_Q1_coeff_pulse_Q2_time1 = '-0.5*2*np.pi*BmwQ2*np.exp(1j*viQ2)*np.exp(1j*2*np.pi*(w_driveQ2-B1)*t)'+time_interval1\n",
    "Hmw_Q1_conj_coeff_pulse_Q2_time1 = '-0.5*2*np.pi*BmwQ2*np.exp(-1j*viQ2)*np.exp(-1j*2*np.pi*(w_driveQ2-B1)*t)'+time_interval1\n",
    "\n",
    "\n",
    "#Pulses to detuning regime where J is nonzero and hamiltonian reduces to CZ(The oracle)\n",
    "Hdet_c1 = '-2*np.pi*det*(225e-9<=t<=(275e-9+35e-9))'\n",
    "\n",
    "#Start of grover diffusion (gd)\n",
    "time_interval2='*(325e-9<=t<=450e-9)'\n",
    "#Rotate Q1\n",
    "Hmw_Q2_coeff_pulse_Q1_time2 = '-0.5*2*np.pi*BmwQ1*np.exp(1j*viQ1_gd)*np.exp(1j*2*np.pi*(w_driveQ1-B2)*t)'+time_interval2\n",
    "Hmw_Q2_conj_coeff_pulse_Q1_time2 = '-0.5*2*np.pi*BmwQ1*np.exp(-1j*viQ1_gd)*np.exp(-1j*2*np.pi*(w_driveQ1-B2)*t)'+time_interval2\n",
    "Hmw_Q1_coeff_pulse_Q1_time2 = '-0.5*2*np.pi*BmwQ1*np.exp(1j*viQ1_gd)*np.exp(1j*2*np.pi*(w_driveQ1-B1)*t)'+time_interval2\n",
    "Hmw_Q1_conj_coeff_pulse_Q1_time2 = '-0.5*2*np.pi*BmwQ1*np.exp(-1j*viQ1_gd)*np.exp(-1j*2*np.pi*(w_driveQ1-B1)*t)'+time_interval2\n",
    "#Rotate Q2\n",
    "Hmw_Q2_coeff_pulse_Q2_time2 = '-0.5*2*np.pi*BmwQ2*np.exp(1j*viQ2_gd)*np.exp(1j*2*np.pi*(w_driveQ2-B2)*t)'+time_interval2\n",
    "Hmw_Q2_conj_coeff_pulse_Q2_time2 = '-0.5*2*np.pi*BmwQ2*np.exp(-1j*viQ2_gd)*np.exp(-1j*2*np.pi*(w_driveQ2-B2)*t)'+time_interval2\n",
    "Hmw_Q1_coeff_pulse_Q2_time2 = '-0.5*2*np.pi*BmwQ2*np.exp(1j*viQ2_gd)*np.exp(1j*2*np.pi*(w_driveQ2-B1)*t)'+time_interval2\n",
    "Hmw_Q1_conj_coeff_pulse_Q2_time2 = '-0.5*2*np.pi*BmwQ2*np.exp(-1j*viQ2_gd)*np.exp(-1j*2*np.pi*(w_driveQ2-B1)*t)'+time_interval2\n",
    "\n",
    "Hdet_c2 = '-2*np.pi*det*(451e-9<=t<=536e-9)'\n",
    "\n",
    "#Another pi/2 rotation to undo the superposition\n",
    "time_interval3 = '*(560e-9<=t<=685e-9)'\n",
    "#rotate Q1\n",
    "Hmw_Q2_coeff_pulse_Q1_time3 = '-0.5*2*np.pi*BmwQ1*np.exp(1j*viQ1_undo)*np.exp(1j*2*np.pi*(w_driveQ1-B2)*t)'+time_interval3\n",
    "Hmw_Q2_conj_coeff_pulse_Q1_time3 = '-0.5*2*np.pi*BmwQ1*np.exp(-1j*viQ1_undo)*np.exp(-1j*2*np.pi*(w_driveQ1-B2)*t)'+time_interval3\n",
    "Hmw_Q1_coeff_pulse_Q1_time3 = '-0.5*2*np.pi*BmwQ1*np.exp(1j*viQ1_undo)*np.exp(1j*2*np.pi*(w_driveQ1-B1)*t)'+time_interval3\n",
    "Hmw_Q1_conj_coeff_pulse_Q1_time3 = '-0.5*2*np.pi*BmwQ1*np.exp(-1j*viQ1_undo)*np.exp(-1j*2*np.pi*(w_driveQ1-B1)*t)'+time_interval3\n",
    "#Rotate Q2\n",
    "Hmw_Q2_coeff_pulse_Q2_time3 = '-0.5*2*np.pi*BmwQ2*np.exp(1j*viQ2_undo)*np.exp(1j*2*np.pi*(w_driveQ2-B2)*t)'+time_interval3\n",
    "Hmw_Q2_conj_coeff_pulse_Q2_time3 = '-0.5*2*np.pi*BmwQ2*np.exp(-1j*viQ2_undo)*np.exp(-1j*2*np.pi*(w_driveQ2-B2)*t)'+time_interval3\n",
    "Hmw_Q1_coeff_pulse_Q2_time3 = '-0.5*2*np.pi*BmwQ2*np.exp(1j*viQ2_undo)*np.exp(1j*2*np.pi*(w_driveQ2-B1)*t)'+time_interval3\n",
    "Hmw_Q1_conj_coeff_pulse_Q2_time3 = '-0.5*2*np.pi*BmwQ2*np.exp(-1j*viQ2_undo)*np.exp(-1j*2*np.pi*(w_driveQ2-B1)*t)'+time_interval3\n",
    "\n",
    "Ht1_c = '(0e-9<=t<=700e-9)*-2*np.pi*tunnel_coupling*np.exp(-1j*2*np.pi*(B1-B2)/2*t)'\n",
    "Ht2_c = '(0e-9<=t<=700e-9)*-2*np.pi*tunnel_coupling*np.exp(1j*2*np.pi*(B1-B2)/2*t)'"
   ]
  },
  {
   "cell_type": "code",
   "execution_count": 80,
   "metadata": {},
   "outputs": [
    {
     "name": "stderr",
     "output_type": "stream",
     "text": [
      "E:\\Anaconda3\\lib\\site-packages\\Cython\\Compiler\\Main.py:367: FutureWarning: Cython directive 'language_level' not set, using 2 for now (Py2). This will change in a later release! File: C:\\Users\\Ahmad\\Documents\\GitHub\\spin-projects\\users\\AhmadSJ\\rhs993213.pyx\n",
      "  tree = Parsing.p_module(s, pxd, full_module_name)\n"
     ]
    },
    {
     "name": "stdout",
     "output_type": "stream",
     "text": [
      "10.0%. Run time:   0.26s. Est. time left: 00:00:00:02\n",
      "20.0%. Run time: 292.09s. Est. time left: 00:00:19:28\n"
     ]
    },
    {
     "ename": "KeyboardInterrupt",
     "evalue": "",
     "output_type": "error",
     "traceback": [
      "\u001b[1;31m---------------------------------------------------------------------------\u001b[0m",
      "\u001b[1;31mKeyboardInterrupt\u001b[0m                         Traceback (most recent call last)",
      "\u001b[1;32m<ipython-input-80-c6c9dbdcf55d>\u001b[0m in \u001b[0;36m<module>\u001b[1;34m\u001b[0m\n\u001b[0;32m     16\u001b[0m \u001b[0mpsi0\u001b[0m\u001b[1;33m=\u001b[0m\u001b[0mqt\u001b[0m\u001b[1;33m.\u001b[0m\u001b[0mbasis\u001b[0m\u001b[1;33m(\u001b[0m\u001b[1;36m6\u001b[0m\u001b[1;33m,\u001b[0m\u001b[1;36m0\u001b[0m\u001b[1;33m)\u001b[0m\u001b[1;31m# evolve the |down, down> state\\\u001b[0m\u001b[1;33m\u001b[0m\u001b[1;33m\u001b[0m\u001b[0m\n\u001b[0;32m     17\u001b[0m \u001b[0mstart\u001b[0m \u001b[1;33m=\u001b[0m \u001b[0mtime\u001b[0m\u001b[1;33m.\u001b[0m\u001b[0mtime\u001b[0m\u001b[1;33m(\u001b[0m\u001b[1;33m)\u001b[0m\u001b[1;33m\u001b[0m\u001b[1;33m\u001b[0m\u001b[0m\n\u001b[1;32m---> 18\u001b[1;33m \u001b[0moutput\u001b[0m \u001b[1;33m=\u001b[0m \u001b[0mqt\u001b[0m\u001b[1;33m.\u001b[0m\u001b[0mmesolve\u001b[0m\u001b[1;33m(\u001b[0m\u001b[0mH\u001b[0m\u001b[1;33m,\u001b[0m\u001b[0mpsi0\u001b[0m\u001b[1;33m,\u001b[0m\u001b[0mtlist\u001b[0m\u001b[1;33m,\u001b[0m\u001b[1;33m[\u001b[0m\u001b[1;33m]\u001b[0m\u001b[1;33m,\u001b[0m\u001b[1;33m[\u001b[0m\u001b[1;33m]\u001b[0m\u001b[1;33m,\u001b[0m\u001b[0margs\u001b[0m\u001b[1;33m=\u001b[0m\u001b[0margs\u001b[0m\u001b[1;33m,\u001b[0m\u001b[0moptions\u001b[0m\u001b[1;33m=\u001b[0m\u001b[0mqt\u001b[0m\u001b[1;33m.\u001b[0m\u001b[0mOptions\u001b[0m\u001b[1;33m(\u001b[0m\u001b[0mnsteps\u001b[0m\u001b[1;33m=\u001b[0m\u001b[1;36m120000\u001b[0m\u001b[1;33m,\u001b[0m\u001b[0mmethod\u001b[0m\u001b[1;33m=\u001b[0m\u001b[1;34m'bdf'\u001b[0m\u001b[1;33m)\u001b[0m\u001b[1;33m,\u001b[0m\u001b[0mprogress_bar\u001b[0m\u001b[1;33m=\u001b[0m\u001b[1;32mTrue\u001b[0m\u001b[1;33m)\u001b[0m\u001b[1;33m\u001b[0m\u001b[1;33m\u001b[0m\u001b[0m\n\u001b[0m\u001b[0;32m     19\u001b[0m \u001b[0mprint\u001b[0m\u001b[1;33m(\u001b[0m\u001b[1;34m'total time: '\u001b[0m\u001b[1;33m,\u001b[0m \u001b[0mtime\u001b[0m\u001b[1;33m.\u001b[0m\u001b[0mtime\u001b[0m\u001b[1;33m(\u001b[0m\u001b[1;33m)\u001b[0m\u001b[1;33m-\u001b[0m\u001b[0mstart\u001b[0m\u001b[1;33m,\u001b[0m \u001b[1;34m's'\u001b[0m\u001b[1;33m)\u001b[0m\u001b[1;33m\u001b[0m\u001b[1;33m\u001b[0m\u001b[0m\n",
      "\u001b[1;32mE:\\Anaconda3\\lib\\site-packages\\qutip\\mesolve.py\u001b[0m in \u001b[0;36mmesolve\u001b[1;34m(H, rho0, tlist, c_ops, e_ops, args, options, progress_bar, _safe_mode)\u001b[0m\n\u001b[0;32m    334\u001b[0m         \u001b[1;32melif\u001b[0m \u001b[0mn_str\u001b[0m \u001b[1;33m>\u001b[0m \u001b[1;36m0\u001b[0m\u001b[1;33m:\u001b[0m\u001b[1;33m\u001b[0m\u001b[1;33m\u001b[0m\u001b[0m\n\u001b[0;32m    335\u001b[0m             res = _sesolve_list_str_td(H, rho0, tlist,\n\u001b[1;32m--> 336\u001b[1;33m                                        e_ops, args, options, progress_bar)\n\u001b[0m\u001b[0;32m    337\u001b[0m         elif isinstance(H, (types.FunctionType,\n\u001b[0;32m    338\u001b[0m                             types.BuiltinFunctionType, partial)):\n",
      "\u001b[1;32mE:\\Anaconda3\\lib\\site-packages\\qutip\\sesolve.py\u001b[0m in \u001b[0;36m_sesolve_list_str_td\u001b[1;34m(H_list, psi0, tlist, e_ops, args, opt, progress_bar)\u001b[0m\n\u001b[0;32m    552\u001b[0m     \u001b[1;31m#\u001b[0m\u001b[1;33m\u001b[0m\u001b[1;33m\u001b[0m\u001b[1;33m\u001b[0m\u001b[0m\n\u001b[0;32m    553\u001b[0m     return _generic_ode_solve(r, psi0, tlist, e_ops, opt, progress_bar,\n\u001b[1;32m--> 554\u001b[1;33m                               dims=psi0.dims)\n\u001b[0m\u001b[0;32m    555\u001b[0m \u001b[1;33m\u001b[0m\u001b[0m\n\u001b[0;32m    556\u001b[0m \u001b[1;31m# TODO cythonize this?\u001b[0m\u001b[1;33m\u001b[0m\u001b[1;33m\u001b[0m\u001b[1;33m\u001b[0m\u001b[0m\n",
      "\u001b[1;32mE:\\Anaconda3\\lib\\site-packages\\qutip\\sesolve.py\u001b[0m in \u001b[0;36m_generic_ode_solve\u001b[1;34m(r, psi0, tlist, e_ops, opt, progress_bar, dims)\u001b[0m\n\u001b[0;32m    863\u001b[0m \u001b[1;33m\u001b[0m\u001b[0m\n\u001b[0;32m    864\u001b[0m         \u001b[1;32mif\u001b[0m \u001b[0mt_idx\u001b[0m \u001b[1;33m<\u001b[0m \u001b[0mn_tsteps\u001b[0m \u001b[1;33m-\u001b[0m \u001b[1;36m1\u001b[0m\u001b[1;33m:\u001b[0m\u001b[1;33m\u001b[0m\u001b[1;33m\u001b[0m\u001b[0m\n\u001b[1;32m--> 865\u001b[1;33m             \u001b[0mr\u001b[0m\u001b[1;33m.\u001b[0m\u001b[0mintegrate\u001b[0m\u001b[1;33m(\u001b[0m\u001b[0mr\u001b[0m\u001b[1;33m.\u001b[0m\u001b[0mt\u001b[0m \u001b[1;33m+\u001b[0m \u001b[0mdt\u001b[0m\u001b[1;33m[\u001b[0m\u001b[0mt_idx\u001b[0m\u001b[1;33m]\u001b[0m\u001b[1;33m)\u001b[0m\u001b[1;33m\u001b[0m\u001b[1;33m\u001b[0m\u001b[0m\n\u001b[0m\u001b[0;32m    866\u001b[0m \u001b[1;33m\u001b[0m\u001b[0m\n\u001b[0;32m    867\u001b[0m     \u001b[0mprogress_bar\u001b[0m\u001b[1;33m.\u001b[0m\u001b[0mfinished\u001b[0m\u001b[1;33m(\u001b[0m\u001b[1;33m)\u001b[0m\u001b[1;33m\u001b[0m\u001b[1;33m\u001b[0m\u001b[0m\n",
      "\u001b[1;32mE:\\Anaconda3\\lib\\site-packages\\scipy\\integrate\\_ode.py\u001b[0m in \u001b[0;36mintegrate\u001b[1;34m(self, t, step, relax)\u001b[0m\n\u001b[0;32m    430\u001b[0m             self._y, self.t = mth(self.f, self.jac or (lambda: None),\n\u001b[0;32m    431\u001b[0m                                   \u001b[0mself\u001b[0m\u001b[1;33m.\u001b[0m\u001b[0m_y\u001b[0m\u001b[1;33m,\u001b[0m \u001b[0mself\u001b[0m\u001b[1;33m.\u001b[0m\u001b[0mt\u001b[0m\u001b[1;33m,\u001b[0m \u001b[0mt\u001b[0m\u001b[1;33m,\u001b[0m\u001b[1;33m\u001b[0m\u001b[1;33m\u001b[0m\u001b[0m\n\u001b[1;32m--> 432\u001b[1;33m                                   self.f_params, self.jac_params)\n\u001b[0m\u001b[0;32m    433\u001b[0m         \u001b[1;32mexcept\u001b[0m \u001b[0mSystemError\u001b[0m\u001b[1;33m:\u001b[0m\u001b[1;33m\u001b[0m\u001b[1;33m\u001b[0m\u001b[0m\n\u001b[0;32m    434\u001b[0m             \u001b[1;31m# f2py issue with tuple returns, see ticket 1187.\u001b[0m\u001b[1;33m\u001b[0m\u001b[1;33m\u001b[0m\u001b[1;33m\u001b[0m\u001b[0m\n",
      "\u001b[1;32mE:\\Anaconda3\\lib\\site-packages\\scipy\\integrate\\_ode.py\u001b[0m in \u001b[0;36mrun\u001b[1;34m(self, f, jac, y0, t0, t1, f_params, jac_params)\u001b[0m\n\u001b[0;32m   1002\u001b[0m         args = ((f, jac, y0, t0, t1) + tuple(self.call_args) +\n\u001b[0;32m   1003\u001b[0m                 (f_params, jac_params))\n\u001b[1;32m-> 1004\u001b[1;33m         \u001b[0my1\u001b[0m\u001b[1;33m,\u001b[0m \u001b[0mt\u001b[0m\u001b[1;33m,\u001b[0m \u001b[0mistate\u001b[0m \u001b[1;33m=\u001b[0m \u001b[0mself\u001b[0m\u001b[1;33m.\u001b[0m\u001b[0mrunner\u001b[0m\u001b[1;33m(\u001b[0m\u001b[1;33m*\u001b[0m\u001b[0margs\u001b[0m\u001b[1;33m)\u001b[0m\u001b[1;33m\u001b[0m\u001b[1;33m\u001b[0m\u001b[0m\n\u001b[0m\u001b[0;32m   1005\u001b[0m         \u001b[0mself\u001b[0m\u001b[1;33m.\u001b[0m\u001b[0mistate\u001b[0m \u001b[1;33m=\u001b[0m \u001b[0mistate\u001b[0m\u001b[1;33m\u001b[0m\u001b[1;33m\u001b[0m\u001b[0m\n\u001b[0;32m   1006\u001b[0m         \u001b[1;32mif\u001b[0m \u001b[0mistate\u001b[0m \u001b[1;33m<\u001b[0m \u001b[1;36m0\u001b[0m\u001b[1;33m:\u001b[0m\u001b[1;33m\u001b[0m\u001b[1;33m\u001b[0m\u001b[0m\n",
      "\u001b[1;31mKeyboardInterrupt\u001b[0m: "
     ]
    }
   ],
   "source": [
    "phase_Q1=np.pi/2\n",
    "phase_Q2=np.pi/2\n",
    "tlist = np.linspace(0,700e-9,1000)\n",
    "args = {'i':0,'det':828.6e6,'tunnel_coupling':0.250e9,'B1':19.7e9, 'B2' : 18.4e9, 'BmwQ1': 2e6, \n",
    "       'BmwQ2' : 2e6, 'viQ1': np.pi/2 ,'viQ2' : np.pi/2, 'viQ1_gd' : np.pi/2+phase_Q1, 'viQ2_gd':np.pi/2+phase_Q2,\n",
    "        'viQ1_undo':np.pi+phase_Q1,'viQ2_undo':np.pi+phase_Q2, 'w_driveQ1': 19.7e9, 'w_driveQ2': 18.4e9, 'tstart' : tlist[0], \n",
    "        'tstop' : tlist[-1]}\n",
    "H=[H0,[Hmw1,Hmw_Q2_coeff_pulse_Q1_time1],[Hmw3,Hmw_Q2_conj_coeff_pulse_Q1_time1],[Hmw2,Hmw_Q1_coeff_pulse_Q1_time1],[Hmw4,Hmw_Q1_conj_coeff_pulse_Q1_time1],\n",
    "  [Hmw1,Hmw_Q2_coeff_pulse_Q2_time1],[Hmw3,Hmw_Q2_conj_coeff_pulse_Q2_time1],[Hmw2,Hmw_Q1_coeff_pulse_Q2_time1],[Hmw4,Hmw_Q1_conj_coeff_pulse_Q2_time1],\n",
    "  [Hmw1,Hmw_Q2_coeff_pulse_Q1_time2],[Hmw3,Hmw_Q2_conj_coeff_pulse_Q1_time2],[Hmw2,Hmw_Q1_coeff_pulse_Q1_time2],[Hmw4,Hmw_Q1_conj_coeff_pulse_Q1_time2],\n",
    "  [Hmw1,Hmw_Q2_coeff_pulse_Q2_time2],[Hmw3,Hmw_Q2_conj_coeff_pulse_Q2_time2],[Hmw2,Hmw_Q1_coeff_pulse_Q2_time2],[Hmw4,Hmw_Q1_conj_coeff_pulse_Q2_time2],\n",
    "  [Hmw1,Hmw_Q2_coeff_pulse_Q1_time3],[Hmw3,Hmw_Q2_conj_coeff_pulse_Q1_time3],[Hmw2,Hmw_Q1_coeff_pulse_Q1_time3],[Hmw4,Hmw_Q1_conj_coeff_pulse_Q1_time3],\n",
    "  [Hmw1,Hmw_Q2_coeff_pulse_Q2_time3],[Hmw3,Hmw_Q2_conj_coeff_pulse_Q2_time3],[Hmw2,Hmw_Q1_coeff_pulse_Q2_time3],[Hmw4,Hmw_Q1_conj_coeff_pulse_Q2_time3],\n",
    "  [Hdet,Hdet_c1],[Hdet,Hdet_c2],[Ht1,Ht1_c],[Ht2,Ht2_c]]\n",
    "\n",
    "psi0=qt.basis(6,0)# evolve the |down, down> state\\\n",
    "start = time.time()\n",
    "output = qt.mesolve(H,psi0,tlist,[],[],args=args,options=qt.Options(nsteps=120000,method='bdf'),progress_bar=True)\n",
    "print('total time: ', time.time()-start, 's')"
   ]
  },
  {
   "cell_type": "code",
   "execution_count": 76,
   "metadata": {},
   "outputs": [
    {
     "data": {
      "image/png": "[encoded data removed]",
      "text/plain": [
       "<Figure size 432x288 with 1 Axes>"
      ]
     },
     "metadata": {
      "needs_background": "light"
     },
     "output_type": "display_data"
    }
   ],
   "source": [
    "plot_states(tlist,output)\n"
   ]
  },
  {
   "cell_type": "code",
   "execution_count": null,
   "metadata": {},
   "outputs": [],
   "source": []
  }
 ],
 "metadata": {
  "kernelspec": {
   "display_name": "Python 3",
   "language": "python",
   "name": "python3"
  },
  "language_info": {
   "codemirror_mode": {
    "name": "ipython",
    "version": 3
   },
   "file_extension": ".py",
   "mimetype": "text/x-python",
   "name": "python",
   "nbconvert_exporter": "python",
   "pygments_lexer": "ipython3",
   "version": "3.7.3"
  }
 },
 "nbformat": 4,
 "nbformat_minor": 2
}
