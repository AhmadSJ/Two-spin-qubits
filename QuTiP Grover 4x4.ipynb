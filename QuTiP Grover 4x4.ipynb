{
 "cells": [
  {
   "cell_type": "code",
   "execution_count": 1,
   "metadata": {},
   "outputs": [],
   "source": [
    "import numpy as np\n",
    "import qutip as qt\n",
    "import time\n",
    "import matplotlib.pyplot as plt\n",
    "import time\n",
    "%matplotlib inline"
   ]
  },
  {
   "cell_type": "markdown",
   "metadata": {},
   "source": [
    "### Introduction\n",
    "$\\newcommand{\\ket}[1]{|#1\\rangle}$\n",
    "\n",
    "The Hamiltonian of a two electron double quantum dot can be modelled by the generalized Hubbard model [3].\n",
    "\n",
    "\\begin{align}\n",
    "H = H_{\\mu} + H_{t} + H_{U} + H_{Z}\n",
    "\\end{align}\n",
    "\n",
    "Where the chemical potential part is $H_{\\mu} = \\displaystyle\\sum_{i\\sigma}(-\\mu_in_{i\\sigma})$ and the hopping terms are $H_t = \\displaystyle\\sum_{<ij>\\sigma}(-tc_{i\\sigma}^{\\dagger}c_{j\\sigma})$. The coulomb repulsion terms are $H_U = \\displaystyle\\sum_i U_in_{i\\uparrow}n_{i\\downarrow}$ and the zeeman term is $H_Z=\\displaystyle\\sum_{i}B_{i}(n_{i\\uparrow}-n_{i\\downarrow})$\n",
    "\n",
    "\n",
    "In this notebook we will be looking at the QuTiP implementation of Grover's Algorithm following ref[2].\n",
    "\n",
    "\n",
    "\n",
    "\n",
    "[1] T. Meunier, V. E. Calado, and L. M. K. Vandersypen. Efficient controlled-phase gate for single-spinqubits in quantum dots.Phys. Rev. B, 83:121403, Mar 2011.\n",
    "\n",
    "[2] T. F. Watson, S. G. J. Philips, E. Kawakami, D. R. Ward, P. Scarlino, M. Veldhorst, D. E. Savage, M. G. Lagally, Mark Friesen, S. N. Coppersmith, M. A. Eriksson, L. M. K. Vandersypen. A programmable two-qubit quantum processor in silicon. arXiv:1708.04214 [cond-mat.mes-hall]\n",
    "\n",
    "[3] S. Yang, X. Wang, and S. Das Sarma, Phys. Rev. B 83, 161301(R)(2011)."
   ]
  },
  {
   "cell_type": "markdown",
   "metadata": {},
   "source": [
    "### Hamiltonian parameters\n",
    "In the two electron basis $\\ket{\\uparrow,\\uparrow},\\ket{\\uparrow,\\downarrow},\\ket{\\downarrow,\\uparrow},\\ket{\\downarrow,\\downarrow},S(0,2),S(2,0)$ the Hamiltonian is given by: [2]\n",
    "\n",
    "\\begin{align}\n",
    "\\hat{H} = \\begin{pmatrix}-\\beta && 0 && 0 && 0 && 0 && 0 \\\\ 0 && -\\Delta\\nu && 0 && 0 && t && t\\\\ 0 && 0 && \\Delta\\nu && 0 && -t && -t\\\\\n",
    "0 && 0 &&0 && \\beta && 0 && 0\\\\ 0 && t && -t && 0 && U_1+\\epsilon && 0 \\\\ 0 && t && -t && 0 && 0 && U_2-\\epsilon \\end{pmatrix}\n",
    "\\end{align}\n",
    "\n",
    "Where $\\beta=\\dfrac{B_1+B_2}{2}$ is the average Zeeman energy of the dots, $\\Delta\\nu=\\dfrac{B_1-B_2}{2}$ is the difference in the Zeeman energy between the two dots, t is tunnel coupling and $U_i$ is the on-site charging energy of the $i^{th}$ quantum dot.\n",
    "\n",
    "#### Applying microwave pulse\n",
    "Single qubit gates can be performed by selectively exciting one qubit with an oscillating magnetic field.\n",
    "\n",
    "This can be modelled by the following Hamiltonian:\n",
    "\n",
    "$\\hat{H}_{mw} = \\sum\\limits_{k} B_{mw,k}\\cos{(\\omega_k t+\\phi_k)}[\\hat{\\sigma}_x\\otimes\\hat{I}+\\hat{I}\\otimes\\hat{\\sigma}_x]$\n",
    "\n",
    "#### Rotating Wave Approximation\n",
    "We perform a unitary transformation $U=e^{-i\\frac{\\omega_1t}{2} \\hat{\\sigma}_z\\otimes\\hat{I}}e^{-i\\frac{\\omega_2t}{2}\\hat{I}\\otimes\\hat{\\sigma}_z}$ to transform the Hamiltonians into a rotating frame $\\tilde{H}=UHU^{\\dagger}+i(\\partial_tU)U^{\\dagger}$. Where $\\omega_1,\\omega_2$ are the frequencies corresponding to the Zeeman energies of the dots.\n",
    "\n",
    "This gives the following Hamiltonians:\n",
    "\n",
    "\\begin{align}\n",
    "\\tilde{H}=\\begin{pmatrix}0&0&0&0&0&0\\\\0&0&0&0&te^{i\\Delta\\nu t}&te^{i\\Delta\\nu t}\\\\0&0&0&0&-te^{-i\\Delta\\nu t}&-te^{-i\\Delta\\nu t}\\\\\n",
    "0&0&0&0&0&0\\\\0&te^{-i\\Delta\\nu }&-te^{i\\Delta\\nu t}&0&U_1+\\epsilon&0\\\\0&te^{-i\\Delta\\nu t}&-te^{i\\Delta\\nu t}&0&0&U_2-\\epsilon\\end{pmatrix}\n",
    "\\end{align}\n",
    "\n",
    "and\n",
    "\n",
    "\\begin{align}\n",
    "\\tilde{H}_{mw}=\\sum\\limits_{k}\\begin{pmatrix}0&\\Omega_ke^{i\\Delta\\omega_1t}&\\Omega_ke^{i\\Delta\\omega_2t}&0&0&0\\\\\\Omega^*_ke^{-i\\Delta\\omega_1t}&0&0&\\Omega_ke^{i\\Delta\\omega_2t}&0&0\\\\\\Omega^*_ke^{-i\\Delta\\omega_2t}&0&0&\\Omega_ke^{i\\Delta\\omega_1t}&0&0\\\\\n",
    "0&\\Omega^*_ke^{-i\\Delta\\omega_2t}&\\Omega^*_ke^{-i\\Delta\\omega_1t}&0&0&0\\\\0&0&0&0&0&0\\\\0&0&0&0&0&0\\end{pmatrix}\n",
    "\\end{align}\n",
    "\n",
    "with $\\Delta\\omega_{k}=\\omega_k-\\omega_{qubit}$ and $\\Omega_k = B_{mw,k}e^{i\\phi_k}$"
   ]
  },
  {
   "cell_type": "markdown",
   "metadata": {},
   "source": [
    "### QuTiP Mesolve() solver\n",
    "To solve the Schrodinger equation for this system: $i\\partial_t\\psi=(\\tilde{H}+\\tilde{H}_{mw})\\psi$ we will be using the mesolve function of QuTiP.\n",
    "In particular the string based method, where the time dependent Hamiltonian coefficients $f_i(t)$ are expressed as strings : $H_{total} = H_{0} - \\sum\\limits_i f_i(t)H_i$ where $H_0$ is the time independent part of the Hamiltonian, $f_i(t)$ are the time dependent coefficients."
   ]
  },
  {
   "cell_type": "code",
   "execution_count": 2,
   "metadata": {},
   "outputs": [],
   "source": [
    "# Plot function that takes the output of mesolve() and plots the probability of each state versus time.\n",
    "def plot_states(tlist,output):\n",
    "    \"\"\"Plots the probabilities of the eigenbasis vectors as a function of time.\n",
    "    \n",
    "    Args:\n",
    "        tlist (array or list): Contains the time steps\n",
    "        output (qutip.solver.Result): Output of the time simulation using qutips mesolve() solver\n",
    "        \n",
    "    Returns:\n",
    "        None, but plots the probabilities of the time simulation for quick visualization.\n",
    "    \n",
    "    \"\"\"\n",
    "    stat=['dd','du','ud','uu', 'S(2,0)','S(0,2)']\n",
    "    stat = [r'$|\\downarrow\\downarrow\\rangle$',r'$|\\downarrow\\uparrow\\rangle$',r'$|\\uparrow\\downarrow\\rangle$',\n",
    "            r'$|\\uparrow\\uparrow\\rangle$', 'S(2,0)','S(0,2)']\n",
    "    p=[]\n",
    "    p_cython=[]\n",
    "    for i in np.arange(len(tlist)):\n",
    "        p.append(abs(output.states[i].full().ravel())**2)\n",
    "        #p_cython.append(abs(output_cython.states[i].full().ravel())**2)\n",
    "\n",
    "    p = np.array(p)\n",
    "    p_cython = np.array(p_cython)\n",
    "    for i in np.arange(4):\n",
    "        plt.plot(tlist/1e-9,p[:,i],label=stat[i])\n",
    "        #plt.figure(2)\n",
    "        #plt.plot(tlist/1e-6,p_cython[:,i],label=i)\n",
    "    plt.xlabel('time (ns)')\n",
    "    plt.ylabel('Probability')\n",
    "    plt.legend(loc='best',bbox_to_anchor=(1,1), fontsize = 'x-large')\n",
    "    plt.show()\n"
   ]
  },
  {
   "cell_type": "code",
   "execution_count": 3,
   "metadata": {},
   "outputs": [],
   "source": [
    "def set_Hamiltonian(B1,B2,t0,U1,U2,detuning):\n",
    "    '''Initializes the two electron spin hamiltonian. The energies are in units of Hz.\n",
    "    \n",
    "    Args:\n",
    "        B1 (double): Zeeman energy of dot 1\n",
    "        B2 (double): Zeeman energy of dot 2\n",
    "        t (double): Tunnel coupling\n",
    "        U1 (double): Coulomb energy dot 1\n",
    "        U2 (double): Coulomb energy dot 2\n",
    "        det (double): detuning energy\n",
    "           \n",
    "       Returns:\n",
    "           6x6 numpy array representing the Hamiltonian in units of Angular frequency.\n",
    "    '''\n",
    "    t=t0\n",
    "    h = np.zeros((6,6),dtype=complex)\n",
    "    h[0,0]=-(B1+B2)/2\n",
    "    h[1,1]=-(B1-B2)/2;h[1,4:6]=t\n",
    "    h[2,2]=(B1-B2)/2;h[2,4:6]=-t\n",
    "    h[3,3]=(B1+B2)/2\n",
    "    h[4,1]=t;h[4,2]=-t;h[4,4] = U1+detuning\n",
    "    h[5,1]=t;h[5,2]=-t;h[5,5]=U2-detuning\n",
    "    return 2*np.pi*h"
   ]
  },
  {
   "cell_type": "markdown",
   "metadata": {},
   "source": [
    "First initialize the time independent Hamiltonian terms which in this case are the $U_1 + \\epsilon$ and $U_2 - \\epsilon$ terms."
   ]
  },
  {
   "cell_type": "code",
   "execution_count": 4,
   "metadata": {},
   "outputs": [],
   "source": [
    "H0=set_Hamiltonian(B1=0,B2=0,t0=0,U1=1e12,U2=1e12,detuning=0)"
   ]
  },
  {
   "cell_type": "markdown",
   "metadata": {},
   "source": [
    "Initialize the tunnel and microwave hamiltonians to pair them with the coefficients."
   ]
  },
  {
   "cell_type": "code",
   "execution_count": 5,
   "metadata": {},
   "outputs": [],
   "source": [
    "#Ht1 is the hamiltonian corresponding to the tunnel coupling coefficient ft1\n",
    "Ht1=np.zeros((6,6),dtype=complex);Ht1[4,1]=1;Ht1[5,1]=1;Ht1[2,4]=-1;Ht1[2,5]=-1;\n",
    "Ht2=np.zeros((6,6),dtype=complex);Ht2[4,2]=-1;Ht2[5,2]=-1;Ht2[1,5]=1;Ht2[1,4]=1;\n",
    "HJ = np.zeros((4,4),dtype=complex);HJ[1,1]=1;HJ[2,2]=1;HJ[1,2]=1;HJ[2,1]=1\n",
    "HJ1 = np.zeros((4,4),dtype=complex);HJ1[1,1]=1;HJ1[2,2]=1\n",
    "HJ2 = np.zeros((4,4),dtype=complex);HJ2[1,2]=1\n",
    "HJ3 = np.zeros((4,4),dtype=complex);HJ3[2,1]=1\n",
    "H0=set_Hamiltonian(0,0,0,1e12,1e12,0)\n",
    "xi = qt.tensor(qt.sigmax(),qt.qeye(2)).full()\n",
    "ix = qt.tensor(qt.qeye(2),qt.sigmax()).full()\n",
    "H0=np.zeros((4,4))\n",
    "Hmw=ix+xi;hulp=np.zeros((6,6),dtype=complex);hulp[:4,:4]=np.copy(Hmw);Hmw=np.copy(hulp)\n",
    "\n",
    "Hmw1 = np.zeros((4,4),dtype=complex);Hmw1[0,1]=1;Hmw1[2,3]=1;\n",
    "Hmw2 = np.zeros((4,4),dtype=complex);Hmw2[0,2]=1;Hmw2[1,3]=1;\n",
    "Hmw3 = np.zeros((4,4),dtype=complex);Hmw3[1,0]=1;Hmw3[3,2]=1;\n",
    "Hmw4 = np.zeros((4,4),dtype=complex);Hmw4[2,0]=1;Hmw4[3,1]=1;\n",
    "\n",
    "# Need to make all the Hamiltonians Quantum Objects for the mesolve solver.\n",
    "H0=qt.Qobj(H0);Ht1=qt.Qobj(Ht1);Ht2=qt.Qobj(Ht2);Hmw1=qt.Qobj(Hmw1);Hmw2=qt.Qobj(Hmw2);Hmw3=qt.Qobj(Hmw3);Hmw4=qt.Qobj(Hmw4)\n",
    "HJ1=qt.Qobj(HJ1);HJ2=qt.Qobj(HJ2);HJ3=qt.Qobj(HJ3)"
   ]
  },
  {
   "cell_type": "markdown",
   "metadata": {},
   "source": [
    "### Rabi oscillations\n",
    "$\\hbar = 1$ so the units of energy is Hz. In the hamiltonian the rabi frequency is given by: $\\Omega = 2\\pi B_{mw}$.\n",
    "\n",
    "To obtain Rabi oscillations we need to drive a qubit with with an oscillating magnetic field with a frequency $\\omega$ corresponding to the Zeeman frequency $\\omega_0$, $\\Omega = \\sqrt{(\\omega - \\omega_0)^2 + \\omega_{mw}^2}\\approx\\omega_{mw}$ Where $\\omega_{mw}$ corresponds to the energy of the AC magnetic field.\n",
    "\n",
    "\n"
   ]
  },
  {
   "cell_type": "markdown",
   "metadata": {},
   "source": [
    "In the following example we drive qubit 2 which has a Zeeman energy of $B_2=B_{Q2}=\\omega_{Q2}=10^9$Hz (while qubit 1 has Zeeman energy $B_{Q1}=\\omega_{Q1}=2\\cdot10^9$Hz)and apply a magnetic field with amplitude (rabi frequency) of $B_{mwQ2}=|\\Omega_{Q2}|=5\\cdot 10^6 $Hz and a frequency $\\omega_k=\\omega_{Q2}=10^9$Hz. Tunneling coupling is considered 0, so we don't consider the tunnel Hamiltonian. The hamiltonians we \n",
    "use are the time independent terms $H_0$ and the driving field applied to qubit 2: $B_{mwQ2}\\cos(\\omega_{Q2} t+\\phi)(\\hat{\\sigma}_x\\otimes\\hat{I}+\\hat{I}\\otimes\\hat{\\sigma})$\n",
    "or in the RWA:\n",
    "\n",
    "\\begin{align}\n",
    "\\tilde{H}_{mw}&=\\sum\\limits_{k}\\begin{pmatrix}0&\\Omega_ke^{i(\\omega_k-\\omega_{Q2})t}&\\Omega_ke^{i(\\omega_k-\\omega_{Q1})t}&0&0&0\\\\\\Omega^*_ke^{-i(\\omega_k-\\omega_{Q2})t}&0&0&\\Omega_ke^{i(\\omega_k-\\omega_{Q1})t}&0&0\\\\\\Omega^*_ke^{-i(\\omega_k-\\omega_{Q1})t}&0&0&\\Omega_ke^{i(\\omega_k-\\omega_{Q2})t}&0&0\\\\\n",
    "0&\\Omega^*_ke^{-i(\\omega_k-\\omega_{Q1})t}&\\Omega^*_ke^{-i(\\omega_k-\\omega_{Q2})t}&0&0&0\\\\0&0&0&0&0&0\\\\0&0&0&0&0&0\\end{pmatrix}\\\\\n",
    "&=\\begin{pmatrix}0&\\Omega_{Q2}e^{i(\\omega_{Q2}-\\omega_{Q2})t}&\\Omega_{Q2}e^{i(\\omega_{Q2}-\\omega_{Q1})t}&0&0&0\\\\\\Omega^*_{Q2}e^{-i(\\omega_{Q2}-\\omega_{Q2})t}&0&0&\\Omega_{Q2}e^{i(\\omega_{Q2}-\\omega_{Q1})t}&0&0\\\\\\Omega^*_{Q2}e^{-i(\\omega_{Q2}-\\omega_{Q1})t}&0&0&\\Omega_{Q2}e^{i(\\omega_{Q2}-\\omega_{Q2})t}&0&0\\\\\n",
    "0&\\Omega^*_{Q2}e^{-i(\\omega_{Q2}-\\omega_{Q1})t}&\\Omega^*_{Q2}e^{-i(\\omega_{Q2}-\\omega_{Q2})t}&0&0&0\\\\0&0&0&0&0&0\\\\0&0&0&0&0&0\\end{pmatrix}\\\\\n",
    "\\end{align}\n"
   ]
  },
  {
   "cell_type": "code",
   "execution_count": 6,
   "metadata": {},
   "outputs": [],
   "source": [
    "tlist = np.linspace(0,1000e-9,1000)\n",
    "args = {'tunnel_coupling':4.3e9,'B_1':2e9, 'B_2' : 1e9, 'Bmw': 5e6, \n",
    "       'Bmw' : 5e6, 'viQ1': 0, 'vi' : 0, 'w_k': 2e9, 'w_driveq2': 2e9, 'tstart' : tlist[0], \n",
    "        'tstop' : tlist[-1]}\n",
    "args = {'B1':2e9, 'B2':1e9, 'Bmw':5e6,'vi':0,'w_k':2e9}\n",
    "\n",
    "time_int = '*(0e-9<=t<=1000e-9)'#time interval\n",
    "\n",
    "Om='-0.5*2*np.pi*Bmw*np.exp(1j*vi)' #complex amplitude\n",
    "Om_c = '-0.5*2*np.pi*Bmw*np.exp(-1j*vi)'#conjugate\n",
    "\n",
    "Hmw1_coeff = Om+'*np.exp(1j*2*np.pi*(w_k-B2)*t)'+time_int\n",
    "Hmw3_coeff = Om_c+'*np.exp(-1j*2*np.pi*(w_k-B2)*t)'+time_int\n",
    "\n",
    "Hmw2_coeff = Om+'*np.exp(1j*2*np.pi*(w_k-B1)*t)'+time_int\n",
    "Hmw4_coeff = Om_c+'*np.exp(-1j*2*np.pi*(w_k-B1)*t)'+time_int\n",
    "\n",
    "Ht1_c = '(40e-9<=t<=40.01e-9)*-2*np.pi*tunnel_coupling*np.exp(-1j*2*np.pi*(B_Q1-B_Q2)*t)'\n",
    "Ht2_c = '(40e-9<=t<=40.01e-9)*-2*np.pi*tunnel_coupling*np.exp(1j*2*np.pi*(B_Q1-B_Q2)/2*t)'\n",
    "cops = [0.1*2e9*qt.tensor(qt.sigmax(),qt.qeye(2))]\n",
    "c_ops = []\n",
    "#c_ops.append(0.1*2e9*qt.Qobj(qt.tensor(qt.sigmax(),qt.qeye(2)).full()))\n",
    "c_ops.append(0.1*2e4*qt.Qobj(qt.tensor(qt.sigmaz(),qt.sigmaz()).full()))\n"
   ]
  },
  {
   "cell_type": "code",
   "execution_count": 7,
   "metadata": {},
   "outputs": [],
   "source": [
    "H = [H0,[Hmw1,Hmw1_coeff],[Hmw3,Hmw3_coeff],\n",
    "     [Hmw2,Hmw2_coeff],[Hmw4,Hmw4_coeff]]\n",
    "psi0=qt.basis(4,0)\n"
   ]
  },
  {
   "cell_type": "code",
   "execution_count": 8,
   "metadata": {
    "scrolled": true
   },
   "outputs": [
    {
     "name": "stderr",
     "output_type": "stream",
     "text": [
      "E:\\Anaconda3\\lib\\site-packages\\Cython\\Compiler\\Main.py:367: FutureWarning: Cython directive 'language_level' not set, using 2 for now (Py2). This will change in a later release! File: C:\\Users\\Ahmad\\Documents\\GitHub\\spin-projects\\users\\AhmadSJ\\rhs143440.pyx\n",
      "  tree = Parsing.p_module(s, pxd, full_module_name)\n"
     ]
    },
    {
     "name": "stdout",
     "output_type": "stream",
     "text": [
      "10.0%. Run time:   1.14s. Est. time left: 00:00:00:10\n",
      "20.0%. Run time:   2.71s. Est. time left: 00:00:00:10\n",
      "30.0%. Run time:   3.78s. Est. time left: 00:00:00:08\n",
      "40.0%. Run time:   4.39s. Est. time left: 00:00:00:06\n",
      "50.0%. Run time:   4.90s. Est. time left: 00:00:00:04\n",
      "60.0%. Run time:   5.41s. Est. time left: 00:00:00:03\n",
      "70.0%. Run time:   5.91s. Est. time left: 00:00:00:02\n",
      "80.0%. Run time:   6.81s. Est. time left: 00:00:00:01\n",
      "90.0%. Run time:   7.64s. Est. time left: 00:00:00:00\n",
      "Total run time:   8.24s\n"
     ]
    },
    {
     "data": {
      "image/png": "[encoded data removed]",
      "text/plain": [
       "<Figure size 432x288 with 1 Axes>"
      ]
     },
     "metadata": {
      "needs_background": "light"
     },
     "output_type": "display_data"
    }
   ],
   "source": [
    "output = qt.mesolve(H,psi0,tlist,[],[],args=args,\n",
    "                    options=qt.Options(nsteps=200000, method='bdf'),progress_bar=True)\n",
    "plot_states(tlist,output)"
   ]
  },
  {
   "cell_type": "code",
   "execution_count": 15,
   "metadata": {},
   "outputs": [],
   "source": [
    "tlist = np.linspace(0,50e-9,1000)\n",
    "args = {'t0':4.3e9,'B_1':2e9, 'B_2' : 2e9, 'Bmw': 5e6, \n",
    "       'Bmw' : 5e6, 'viQ1': 0, 'vi' : 0, 'w_k': 2e9, 'w_driveq2': 2e9, 'tstart' : tlist[0], \n",
    "        'tstop' : tlist[-1]}\n",
    "\n",
    "args = {'B1':2e9, 'B2':2e9, 'Bmw':5e6,'vi':0,'w_k':2e9,'t0':4.3e9,'det':0,'U1':1e12,'U2':1e12,'det':828.6e9\n",
    "       ,'U1':1e12,'U2':1e12}\n",
    "\n",
    "time_interval = '*(0e-9<=t<=50e-9)'#time interval\n",
    "\n",
    "det = 'det*(10e-9<=t<=20e-9)'\n",
    "HJ1c = '2*np.pi*t0**2*(1/(U1+'+det+')+1/(U2-'+det+'))'+time_interval\n",
    "HJ2c = '-2*np.pi*np.exp(2j*2*np.pi*(B1-B2)/2*t)*t0**2*(1/(U1+'+det+')+1/(U2-'+det+'))'+time_interval\n",
    "HJ3c = '-2*np.pi*np.exp(-2j*2*np.pi*(B1-B2)/2*t)*t0**2*(1/(U1+'+det+')+1/(U2-'+det+'))'+time_interval\n",
    "H = [H0,[HJ1,HJ1c],[HJ2,HJ2c],[HJ3,HJ3c]]\n",
    "psi0=qt.basis(4,1)\n"
   ]
  },
  {
   "cell_type": "code",
   "execution_count": 16,
   "metadata": {},
   "outputs": [],
   "source": [
    "H0=set_Hamiltonian(0,0,0,850e9,840e9,0)#B1,B2,t,U1,U2,e\n",
    "#detuning pulse\n",
    "Hdet = set_Hamiltonian(0,0,0,1,-1,0)/(2*np.pi)\n",
    "H0=qt.Qobj(H0)\n",
    "Hdet = qt.Qobj(Hdet)\n",
    "H0=qt.Qobj(np.zeros((4,4)))"
   ]
  },
  {
   "cell_type": "code",
   "execution_count": 12,
   "metadata": {},
   "outputs": [],
   "source": [
    "#grover's algorithm\n",
    "time_interval1='*(100e-9<=t<=225e-9)'\n",
    "#microwavesignalrotatesqubit1withpi/2radiansBmwQ1*cos(w_driveQ1*t+viQ1)\n",
    "Hmw_Q2_coeff_pulse_Q1_time1='-0.5*2*np.pi*BmwQ1*np.exp(1j*viQ1)*\\\n",
    "np.exp(1j*2*np.pi*(w_driveQ1-B2)*t)'+time_interval1\n",
    "Hmw_Q2_conj_coeff_pulse_Q1_time1='-0.5*2*np.pi*BmwQ1*np.exp(-1j*viQ1)*\\\n",
    "np.exp(-1j*2*np.pi*(w_driveQ1-B2)*t)'+time_interval1\n",
    "Hmw_Q1_coeff_pulse_Q1_time1='-0.5*2*np.pi*BmwQ1*np.exp(1j*viQ1)*\\\n",
    "np.exp(1j*2*np.pi*(w_driveQ1-B1)*t)'+time_interval1\n",
    "Hmw_Q1_conj_coeff_pulse_Q1_time1='-0.5*2*np.pi*BmwQ1*np.exp(-1j*viQ1)*\\\n",
    "np.exp(-1j*2*np.pi*(w_driveQ1-B1)*t)'+time_interval1\n",
    "\n",
    "#mwsignalrotatesqubit2withpi/2radiansBmwQ2*cos(w_driveQ2*t+viQ2)\n",
    "Hmw_Q2_coeff_pulse_Q2_time1='-0.5*2*np.pi*BmwQ2*np.exp(1j*viQ2)*\\\n",
    "np.exp(1j*2*np.pi*(w_driveQ2-B2)*t)'+time_interval1\n",
    "Hmw_Q2_conj_coeff_pulse_Q2_time1='-0.5*2*np.pi*BmwQ2*np.exp(-1j*viQ2)*\\\n",
    "np.exp(-1j*2*np.pi*(w_driveQ2-B2)*t)'+time_interval1\n",
    "Hmw_Q1_coeff_pulse_Q2_time1='-0.5*2*np.pi*BmwQ2*np.exp(1j*viQ2)*\\\n",
    "np.exp(1j*2*np.pi*(w_driveQ2-B1)*t)'+time_interval1\n",
    "Hmw_Q1_conj_coeff_pulse_Q2_time1='-0.5*2*np.pi*BmwQ2*np.exp(-1j*viQ2)*\\\n",
    "np.exp(-1j*2*np.pi*(w_driveQ2-B1)*t)'+time_interval1\n",
    "\n",
    "\n",
    "#PulsestodetuningregimewhereJisnonzeroandhamiltonianreducestoCZ(Theoracle)\n",
    "Hdet_c1='-2*np.pi*det*(225e-9<=t<=(275e-9+35e-9))'\n",
    "\n",
    "#Startofgroverdiffusion(gd)\n",
    "time_interval2='*(325e-9<=t<=450e-9)'\n",
    "#RotateQ1\n",
    "Hmw_Q2_coeff_pulse_Q1_time2='-0.5*2*np.pi*BmwQ1*np.exp(1j*viQ1_gd)*\\\n",
    "np.exp(1j*2*np.pi*(w_driveQ1-B2)*t)'+time_interval2\n",
    "Hmw_Q2_conj_coeff_pulse_Q1_time2='-0.5*2*np.pi*BmwQ1*np.exp(-1j*viQ1_gd)*\\\n",
    "np.exp(-1j*2*np.pi*(w_driveQ1-B2)*t)'+time_interval2\n",
    "Hmw_Q1_coeff_pulse_Q1_time2='-0.5*2*np.pi*BmwQ1*np.exp(1j*viQ1_gd)*\\\n",
    "np.exp(1j*2*np.pi*(w_driveQ1-B1)*t)'+time_interval2\n",
    "Hmw_Q1_conj_coeff_pulse_Q1_time2='-0.5*2*np.pi*BmwQ1*np.exp(-1j*viQ1_gd)*\\\n",
    "np.exp(-1j*2*np.pi*(w_driveQ1-B1)*t)'+time_interval2\n",
    "#RotateQ2\n",
    "Hmw_Q2_coeff_pulse_Q2_time2='-0.5*2*np.pi*BmwQ2*np.exp(1j*viQ2_gd)*\\\n",
    "np.exp(1j*2*np.pi*(w_driveQ2-B2)*t)'+time_interval2\n",
    "Hmw_Q2_conj_coeff_pulse_Q2_time2='-0.5*2*np.pi*BmwQ2*np.exp(-1j*viQ2_gd)*\\\n",
    "np.exp(-1j*2*np.pi*(w_driveQ2-B2)*t)'+time_interval2\n",
    "Hmw_Q1_coeff_pulse_Q2_time2='-0.5*2*np.pi*BmwQ2*np.exp(1j*viQ2_gd)*\\\n",
    "np.exp(1j*2*np.pi*(w_driveQ2-B1)*t)'+time_interval2\n",
    "Hmw_Q1_conj_coeff_pulse_Q2_time2='-0.5*2*np.pi*BmwQ2*np.exp(-1j*viQ2_gd)*\\\n",
    "np.exp(-1j*2*np.pi*(w_driveQ2-B1)*t)'+time_interval2\n",
    "\n",
    "Hdet_c2='-2*np.pi*det*(451e-9<=t<=536e-9)'\n",
    "\n",
    "#Anotherpi/2rotationtoundothesuperposition\n",
    "time_interval3='*(560e-9<=t<=685e-9)'\n",
    "#rotateQ1\n",
    "Hmw_Q2_coeff_pulse_Q1_time3='-0.5*2*np.pi*BmwQ1*np.exp(1j*viQ1_undo)*\\\n",
    "np.exp(1j*2*np.pi*(w_driveQ1-B2)*t)'+time_interval3\n",
    "Hmw_Q2_conj_coeff_pulse_Q1_time3='-0.5*2*np.pi*BmwQ1*np.exp(-1j*viQ1_undo)*\\\n",
    "np.exp(-1j*2*np.pi*(w_driveQ1-B2)*t)'+time_interval3\n",
    "Hmw_Q1_coeff_pulse_Q1_time3='-0.5*2*np.pi*BmwQ1*np.exp(1j*viQ1_undo)*\\\n",
    "np.exp(1j*2*np.pi*(w_driveQ1-B1)*t)'+time_interval3\n",
    "Hmw_Q1_conj_coeff_pulse_Q1_time3='-0.5*2*np.pi*BmwQ1*np.exp(-1j*viQ1_undo)*\\\n",
    "np.exp(-1j*2*np.pi*(w_driveQ1-B1)*t)'+time_interval3\n",
    "#RotateQ2\n",
    "Hmw_Q2_coeff_pulse_Q2_time3='-0.5*2*np.pi*BmwQ2*np.exp(1j*viQ2_undo)*\\\n",
    "np.exp(1j*2*np.pi*(w_driveQ2-B2)*t)'+time_interval3\n",
    "Hmw_Q2_conj_coeff_pulse_Q2_time3='-0.5*2*np.pi*BmwQ2*np.exp(-1j*viQ2_undo)*\\\n",
    "np.exp(-1j*2*np.pi*(w_driveQ2-B2)*t)'+time_interval3\n",
    "Hmw_Q1_coeff_pulse_Q2_time3='-0.5*2*np.pi*BmwQ2*np.exp(1j*viQ2_undo)*\\\n",
    "np.exp(1j*2*np.pi*(w_driveQ2-B1)*t)'+time_interval3\n",
    "Hmw_Q1_conj_coeff_pulse_Q2_time3='-0.5*2*np.pi*BmwQ2*np.exp(-1j*viQ2_undo)*\\\n",
    "np.exp(-1j*2*np.pi*(w_driveQ2-B1)*t)'+time_interval3\n",
    "\n",
    "\n",
    "time_int='*(0e-9<=t<=700e-9)'\n",
    "det='det*((225e-9<=t<=(275e-9+35e-9))or(451e-9<=t<=536e-9))'\n",
    "\n",
    "HJ1c='-2*np.pi*t0**2*(1/(U1+'+det+')+1/(U2-'+det+'))'+time_int\n",
    "HJ2c='2*np.pi*np.exp(2j*2*np.pi*(B1-B2)/2*t)*t0**2*(1/(U1+'\\\n",
    "+det+')+1/(U2-'+det+'))'+time_int\n",
    "HJ3c='2*np.pi*np.exp(-2j*2*np.pi*(B1-B2)/2*t)*t0**2*(1/(U1+'\\\n",
    "+det+')+1/(U2-'+det+'))'+time_int\n",
    "c_ops = []\n",
    "#c_ops.append(0.1*2e9*qt.Qobj(qt.tensor(qt.sigmax(),qt.qeye(2)).full()))\n",
    "c_ops.append(0.1*2e-4*qt.Qobj(qt.tensor(qt.sigmaz(),qt.sigmaz()).full()))"
   ]
  },
  {
   "cell_type": "code",
   "execution_count": 13,
   "metadata": {
    "scrolled": true
   },
   "outputs": [
    {
     "name": "stderr",
     "output_type": "stream",
     "text": [
      "E:\\Anaconda3\\lib\\site-packages\\Cython\\Compiler\\Main.py:367: FutureWarning: Cython directive 'language_level' not set, using 2 for now (Py2). This will change in a later release! File: C:\\Users\\Ahmad\\Documents\\GitHub\\spin-projects\\users\\AhmadSJ\\rhs143442.pyx\n",
      "  tree = Parsing.p_module(s, pxd, full_module_name)\n"
     ]
    },
    {
     "name": "stdout",
     "output_type": "stream",
     "text": [
      "10.0%. Run time:   0.39s. Est. time left: 00:00:00:03\n",
      "20.0%. Run time:   2.66s. Est. time left: 00:00:00:10\n",
      "30.0%. Run time:   4.88s. Est. time left: 00:00:00:11\n",
      "40.0%. Run time:   6.96s. Est. time left: 00:00:00:10\n",
      "50.0%. Run time:   8.43s. Est. time left: 00:00:00:08\n",
      "60.0%. Run time:  11.88s. Est. time left: 00:00:00:07\n",
      "70.0%. Run time:  13.52s. Est. time left: 00:00:00:05\n",
      "80.0%. Run time:  14.82s. Est. time left: 00:00:00:03\n",
      "90.0%. Run time:  16.75s. Est. time left: 00:00:00:01\n",
      "Total run time:  19.12s\n",
      "total time:  37.38195204734802 s\n"
     ]
    }
   ],
   "source": [
    "phase_Q1=np.pi/2\n",
    "phase_Q2=np.pi/2\n",
    "tlist = np.linspace(0e-9,700e-9,1000)\n",
    "args = {'det':828.6e9,'t0':0.190e9,'B1':19.7e9, 'B2' : 18.4e9, 'BmwQ1': 2e6, \n",
    "       'BmwQ2' : 2e6, 'viQ1': np.pi/2 ,'viQ2' : np.pi/2, 'viQ1_gd' : np.pi/2+phase_Q1, 'viQ2_gd':np.pi/2+phase_Q2,\n",
    "        'viQ1_undo':np.pi+phase_Q1,'viQ2_undo':np.pi+phase_Q2, 'w_driveQ1': 19.7e9, 'w_driveQ2': 18.4e9, 'tstart' : tlist[0], \n",
    "        'tstop' : tlist[-1],'U1':850e9,'U2':840e9}\n",
    "\n",
    "H=[H0,[Hmw1,Hmw_Q2_coeff_pulse_Q1_time1],[Hmw3,Hmw_Q2_conj_coeff_pulse_Q1_time1],[Hmw2,Hmw_Q1_coeff_pulse_Q1_time1],[Hmw4,Hmw_Q1_conj_coeff_pulse_Q1_time1],\n",
    "  [Hmw1,Hmw_Q2_coeff_pulse_Q2_time1],[Hmw3,Hmw_Q2_conj_coeff_pulse_Q2_time1],[Hmw2,Hmw_Q1_coeff_pulse_Q2_time1],[Hmw4,Hmw_Q1_conj_coeff_pulse_Q2_time1],\n",
    "  [Hmw1,Hmw_Q2_coeff_pulse_Q1_time2],[Hmw3,Hmw_Q2_conj_coeff_pulse_Q1_time2],[Hmw2,Hmw_Q1_coeff_pulse_Q1_time2],[Hmw4,Hmw_Q1_conj_coeff_pulse_Q1_time2],\n",
    "  [Hmw1,Hmw_Q2_coeff_pulse_Q2_time2],[Hmw3,Hmw_Q2_conj_coeff_pulse_Q2_time2],[Hmw2,Hmw_Q1_coeff_pulse_Q2_time2],[Hmw4,Hmw_Q1_conj_coeff_pulse_Q2_time2],\n",
    "  [Hmw1,Hmw_Q2_coeff_pulse_Q1_time3],[Hmw3,Hmw_Q2_conj_coeff_pulse_Q1_time3],[Hmw2,Hmw_Q1_coeff_pulse_Q1_time3],[Hmw4,Hmw_Q1_conj_coeff_pulse_Q1_time3],\n",
    "  [Hmw1,Hmw_Q2_coeff_pulse_Q2_time3],[Hmw3,Hmw_Q2_conj_coeff_pulse_Q2_time3],[Hmw2,Hmw_Q1_coeff_pulse_Q2_time3],[Hmw4,Hmw_Q1_conj_coeff_pulse_Q2_time3],\n",
    "  [HJ1,HJ1c],[HJ2,HJ2c],[HJ3,HJ3c]]\n",
    "\n",
    "psi0=qt.basis(4,0)# evolve the |down, down> state\\\n",
    "start = time.time()\n",
    "output = qt.mesolve(H,psi0,tlist,[],[],args=args,options=qt.Options(nsteps=120000),progress_bar=True)\n",
    "print('total time: ', time.time()-start, 's')"
   ]
  },
  {
   "cell_type": "code",
   "execution_count": 14,
   "metadata": {
    "scrolled": false
   },
   "outputs": [
    {
     "data": {
      "image/png": "[encoded data removed]",
      "text/plain": [
       "<Figure size 432x288 with 1 Axes>"
      ]
     },
     "metadata": {
      "needs_background": "light"
     },
     "output_type": "display_data"
    }
   ],
   "source": [
    "\n",
    "plot_states(tlist,output)"
   ]
  },
  {
   "cell_type": "code",
   "execution_count": 84,
   "metadata": {},
   "outputs": [],
   "source": []
  },
  {
   "cell_type": "code",
   "execution_count": null,
   "metadata": {},
   "outputs": [],
   "source": []
  },
  {
   "cell_type": "code",
   "execution_count": null,
   "metadata": {},
   "outputs": [],
   "source": []
  }
 ],
 "metadata": {
  "kernelspec": {
   "display_name": "Python 3",
   "language": "python",
   "name": "python3"
  },
  "language_info": {
   "codemirror_mode": {
    "name": "ipython",
    "version": 3
   },
   "file_extension": ".py",
   "mimetype": "text/x-python",
   "name": "python",
   "nbconvert_exporter": "python",
   "pygments_lexer": "ipython3",
   "version": "3.7.3"
  }
 },
 "nbformat": 4,
 "nbformat_minor": 2
}
